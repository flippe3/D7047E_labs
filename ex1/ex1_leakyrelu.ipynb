{
 "cells": [
  {
   "cell_type": "code",
   "execution_count": 1,
   "id": "51ce1439",
   "metadata": {},
   "outputs": [],
   "source": [
    "import torch\n",
    "import torchvision \n",
    "import torch.nn as nn\n",
    "from torchvision.transforms import ToTensor\n",
    "from torch.utils.data import DataLoader, random_split\n",
    "\n",
    "torch.manual_seed(42)\n",
    "from torch.utils.tensorboard import SummaryWriter\n",
    "writer = SummaryWriter()"
   ]
  },
  {
   "cell_type": "markdown",
   "id": "5b7e0eea",
   "metadata": {},
   "source": [
    "# Practical Task 1.1"
   ]
  },
  {
   "cell_type": "code",
   "execution_count": 2,
   "id": "191c1f4e",
   "metadata": {},
   "outputs": [
    {
     "name": "stdout",
     "output_type": "stream",
     "text": [
      "Files already downloaded and verified\n",
      "Files already downloaded and verified\n"
     ]
    }
   ],
   "source": [
    "train_dataset = torchvision.datasets.CIFAR10(root='./data', train=True, download=True, transform=ToTensor())\n",
    "test_dataset = torchvision.datasets.CIFAR10(root='./data', train=False, download=True, transform=ToTensor())\n",
    "\n",
    "batch_size = 4\n",
    "\n",
    "train_loader = DataLoader(train_dataset,\n",
    "                        batch_size=batch_size,\n",
    "                        shuffle=True)\n",
    "\n",
    "test_loader = DataLoader(test_dataset,\n",
    "                        batch_size=batch_size,\n",
    "                        shuffle=False)"
   ]
  },
  {
   "cell_type": "code",
   "execution_count": 3,
   "id": "5efe1c67",
   "metadata": {},
   "outputs": [],
   "source": [
    "class Model(nn.Module):\n",
    "    def __init__(self):\n",
    "        super().__init__()\n",
    "        \n",
    "        self.conv1 = nn.Conv2d(3, 6, 5)\n",
    "        self.pool = nn.MaxPool2d(2, 2)\n",
    "        self.conv2 = nn.Conv2d(6, 16, 5)\n",
    "        self.fc1 = nn.Linear(16 * 5 * 5, 120)\n",
    "        self.fc2 = nn.Linear(120, 84)\n",
    "        self.fc3 = nn.Linear(84, 10)\n",
    "\n",
    "        self.relu = nn.LeakyReLU()\n",
    "        \n",
    "    def forward(self, x):\n",
    "        x = self.pool(self.relu(self.conv1(x)))\n",
    "        x = self.pool(self.relu(self.conv2(x)))\n",
    "        x = torch.flatten(x, 1)\n",
    "        x = self.relu(self.fc1(x))\n",
    "        x = self.relu(self.fc2(x))\n",
    "        x = self.fc3(x)\n",
    "        return x\n",
    "    \n",
    "model = Model()"
   ]
  },
  {
   "cell_type": "code",
   "execution_count": 4,
   "id": "be0b4147",
   "metadata": {},
   "outputs": [],
   "source": [
    "loss_fn = torch.nn.CrossEntropyLoss()\n",
    "optimizer = torch.optim.SGD(model.parameters(), lr=0.0001)\n",
    "epochs = 3"
   ]
  },
  {
   "cell_type": "code",
   "execution_count": 5,
   "id": "49a98b66",
   "metadata": {},
   "outputs": [],
   "source": [
    "def run(epochs, optimizer, loss_fn, train_loader, test_loader):\n",
    "    for epoch in range(epochs):\n",
    "        model.train()\n",
    "        for i, (data, labels) in enumerate(train_loader):\n",
    "            pred = model(data)\n",
    "            loss = loss_fn(pred, labels)\n",
    "            loss.backward()\n",
    "            optimizer.step()\n",
    "            writer.add_scalar(\"Loss/train\", loss, epoch)\n",
    "            optimizer.zero_grad()\n",
    "            print(\n",
    "                f'\\rEpoch {epoch+1} [{i+1}/{len(train_loader)}] - Loss: {loss}',\n",
    "                end=''\n",
    "            )\n",
    "\n",
    "        print('\\nTesting the model after epoch:', epoch)\n",
    "        correct, total = 0, 0\n",
    "        with torch.no_grad():\n",
    "            model.eval()\n",
    "            for _, (data, labels) in enumerate(test_loader):\n",
    "                pred = model(data)\n",
    "                for i in range(len(labels)):\n",
    "                    pr = torch.argmax(pred[i], dim=-1)\n",
    "                    if pr == labels[i]:\n",
    "                        correct += 1\n",
    "                    total += 1\n",
    "            print(correct, total, correct/total)\n",
    "    writer.flush()\n",
    "    writer.close()"
   ]
  },
  {
   "cell_type": "code",
   "execution_count": 6,
   "id": "476e85e2",
   "metadata": {},
   "outputs": [
    {
     "name": "stdout",
     "output_type": "stream",
     "text": [
      "Epoch 1 [12500/12500] - Loss: 2.3044083118438725\n",
      "Testing the model after epoch: 0\n",
      "1008 10000 0.1008\n",
      "Epoch 2 [12500/12500] - Loss: 2.3556969165802527\n",
      "Testing the model after epoch: 1\n",
      "1017 10000 0.1017\n",
      "Epoch 3 [12500/12500] - Loss: 2.2959403991699224\n",
      "Testing the model after epoch: 2\n",
      "1083 10000 0.1083\n",
      "Epoch 1 [12500/12500] - Loss: 1.58327472209930428\n",
      "Testing the model after epoch: 0\n",
      "4529 10000 0.4529\n",
      "Epoch 2 [12500/12500] - Loss: 1.11692571640014656\n",
      "Testing the model after epoch: 1\n",
      "4539 10000 0.4539\n",
      "Epoch 3 [12500/12500] - Loss: 0.88886606693267824\n",
      "Testing the model after epoch: 2\n",
      "5101 10000 0.5101\n"
     ]
    }
   ],
   "source": [
    "run(epochs, optimizer, loss_fn, train_loader, test_loader)\n",
    "\n",
    "optimizer = torch.optim.Adam(model.parameters())\n",
    "run(epochs, optimizer, loss_fn, train_loader, test_loader)"
   ]
  }
 ],
 "metadata": {
  "kernelspec": {
   "display_name": "Python 3 (ipykernel)",
   "language": "python",
   "name": "python3"
  },
  "language_info": {
   "codemirror_mode": {
    "name": "ipython",
    "version": 3
   },
   "file_extension": ".py",
   "mimetype": "text/x-python",
   "name": "python",
   "nbconvert_exporter": "python",
   "pygments_lexer": "ipython3",
   "version": "3.8.12"
  }
 },
 "nbformat": 4,
 "nbformat_minor": 5
}
