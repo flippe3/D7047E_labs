{
 "cells": [
  {
   "cell_type": "code",
   "execution_count": 10,
   "id": "8dd2ea96",
   "metadata": {},
   "outputs": [],
   "source": [
    "import torch\n",
    "import torch.nn as nn\n",
    "import torch.nn.functional as F\n",
    "import torch.optim as optim\n",
    "import torchvision\n",
    "from torchvision import datasets, transforms\n",
    "from torchvision.transforms import ToTensor\n",
    "from torch.utils.data import DataLoader, random_split\n",
    "import numpy as np\n",
    "import matplotlib.pyplot as plt"
   ]
  },
  {
   "cell_type": "code",
   "execution_count": 11,
   "id": "888e8b07",
   "metadata": {},
   "outputs": [
    {
     "name": "stdout",
     "output_type": "stream",
     "text": [
      "There are 1 GPU(s) available.\n",
      "We will use the GPU: NVIDIA GeForce RTX 3060 Laptop GPU\n"
     ]
    }
   ],
   "source": [
    "if torch.cuda.is_available():    \n",
    "    device = torch.device(\"cuda\")\n",
    "    print('There are %d GPU(s) available.' % torch.cuda.device_count())\n",
    "    print('We will use the GPU:', torch.cuda.get_device_name(0))\n",
    "else:\n",
    "    print('NO GPU AVAILABLE ERROR')\n",
    "    device = torch.device(\"cpu\")"
   ]
  },
  {
   "cell_type": "code",
   "execution_count": 12,
   "id": "c1b50601",
   "metadata": {},
   "outputs": [
    {
     "name": "stdout",
     "output_type": "stream",
     "text": [
      "Training CNN on MNIST dataset\n",
      "Epoch 1 [55/55] - Loss: 0.38914585113525395\n",
      "*************************************\n",
      "Validation the model after epoch: 0\n",
      "4539 5000 0.9078\n",
      "Epoch 2 [55/55] - Loss: 0.20378459990024567\n",
      "*************************************\n",
      "Validation the model after epoch: 1\n",
      "4692 5000 0.9384\n",
      "Epoch 3 [55/55] - Loss: 0.15778297185897827\n",
      "*************************************\n",
      "Validation the model after epoch: 2\n",
      "4799 5000 0.9598\n",
      "Epoch 4 [55/55] - Loss: 0.09434339404106149\n",
      "*************************************\n",
      "Validation the model after epoch: 3\n",
      "4857 5000 0.9714\n",
      "Epoch 5 [55/55] - Loss: 0.07468000799417496\n",
      "*************************************\n",
      "Validation the model after epoch: 4\n",
      "4884 5000 0.9768\n",
      "Epoch 6 [55/55] - Loss: 0.075783021748065954\n",
      "*************************************\n",
      "Validation the model after epoch: 5\n",
      "4890 5000 0.978\n",
      "Epoch 7 [55/55] - Loss: 0.064159914851188665\n",
      "*************************************\n",
      "Validation the model after epoch: 6\n",
      "4903 5000 0.9806\n",
      "Epoch 8 [55/55] - Loss: 0.052640877664089216\n",
      "*************************************\n",
      "Validation the model after epoch: 7\n",
      "4915 5000 0.983\n",
      "Epoch 9 [55/55] - Loss: 0.046473097056150436\n",
      "*************************************\n",
      "Validation the model after epoch: 8\n",
      "4917 5000 0.9834\n",
      "Epoch 10 [55/55] - Loss: 0.054474409669637685\n",
      "*************************************\n",
      "Validation the model after epoch: 9\n",
      "4919 5000 0.9838\n"
     ]
    }
   ],
   "source": [
    "class Model(nn.Module):\n",
    "    def __init__(self):\n",
    "        super().__init__()\n",
    "        \n",
    "        self.conv1 = nn.Conv2d(1, 16, 5, 1, 2)\n",
    "        self.pool = nn.MaxPool2d(2, 2)\n",
    "        self.conv2 = nn.Conv2d(16, 32, 5, 1, 2)\n",
    "        self.fc1 = nn.Linear(32 * 7 * 7, 10)\n",
    "        self.relu = nn.ReLU()\n",
    "        \n",
    "    def forward(self, x):\n",
    "        x = self.pool(self.relu(self.conv1(x))) # 28x28 > 14x14\n",
    "        x = self.pool(self.relu(self.conv2(x))) # 14x14 > 7x7\n",
    "        x = torch.flatten(x, 1)\n",
    "        x = self.fc1(x)\n",
    "        return x\n",
    "    \n",
    "# Create an instance of the model\n",
    "model_mnist = Model()\n",
    "model_mnist.to(device)\n",
    "\n",
    "train_dataset_mnist = torchvision.datasets.MNIST(root='./data', train=True, download=True, transform=ToTensor())\n",
    "train_dataset_mnist, val_dataset_mnist = random_split(train_dataset_mnist, [55000, 5000])\n",
    "test_dataset_mnist = torchvision.datasets.MNIST(root='./data', train=False, download=True, transform=ToTensor())\n",
    "\n",
    "batch_size = 1000\n",
    "epochs = 10\n",
    "\n",
    "train_loader_mnist = DataLoader(train_dataset_mnist,\n",
    "                        batch_size=batch_size,\n",
    "                        shuffle=True)\n",
    "val_loader_mnist = DataLoader(val_dataset_mnist,\n",
    "                        batch_size=batch_size,\n",
    "                        shuffle=True)\n",
    "\n",
    "loss_fn = torch.nn.CrossEntropyLoss()\n",
    "optimizer = torch.optim.Adam(model_mnist.parameters(), lr=0.001)\n",
    "\n",
    "def train(epochs, optimizer, loss_fn, train_loader, val_loader, model):\n",
    "    for epoch in range(epochs):\n",
    "        model.train()\n",
    "        for i, (data, labels) in enumerate(train_loader):\n",
    "            data = data.to(device)\n",
    "            labels = labels.to(device)\n",
    "\n",
    "            pred = model(data)\n",
    "            loss = loss_fn(pred, labels)\n",
    "            loss.backward()\n",
    "            optimizer.step()\n",
    "            optimizer.zero_grad()\n",
    "            print(\n",
    "                f'\\rEpoch {epoch+1} [{i+1}/{len(train_loader)}] - Loss: {loss}',\n",
    "                end=''\n",
    "            )\n",
    "\n",
    "        print('\\n*************************************')\n",
    "        print('Validation the model after epoch:', epoch)\n",
    "        accuracy(model, val_loader)\n",
    "\n",
    "def accuracy(model, data_loader):\n",
    "    correct, total = 0, 0\n",
    "    with torch.no_grad():\n",
    "        model.eval()\n",
    "        for _, (data, labels) in enumerate(data_loader):\n",
    "            data = data.to(device)\n",
    "            labels = labels.to(device)\n",
    "            \n",
    "            pred = model(data)\n",
    "            for i in range(len(labels)):\n",
    "                pr = torch.argmax(pred[i], dim=-1)\n",
    "                if pr == labels[i]:\n",
    "                    correct += 1\n",
    "                total += 1\n",
    "        print(correct, total, correct/total)\n",
    "\n",
    "print('Training CNN on MNIST dataset')\n",
    "train(epochs, optimizer, loss_fn, train_loader_mnist, val_loader_mnist, model_mnist)"
   ]
  },
  {
   "cell_type": "code",
   "execution_count": 23,
   "id": "57697d3d",
   "metadata": {},
   "outputs": [],
   "source": [
    "# FGSM attack code\n",
    "def fgsm_attack(image, epsilon, data_grad):\n",
    "    # Collect the element-wise sign of the data gradient\n",
    "    sign_data_grad = data_grad.sign()\n",
    "    # Create the perturbed image by adjusting each pixel of the input image\n",
    "    perturbed_image = image - epsilon*sign_data_grad\n",
    "    # Adding clipping to maintain [0,1] range\n",
    "    perturbed_image = torch.clamp(perturbed_image, 0, 1)\n",
    "    # Return the perturbed image\n",
    "    return perturbed_image"
   ]
  },
  {
   "cell_type": "code",
   "execution_count": 41,
   "id": "d52be70a",
   "metadata": {},
   "outputs": [],
   "source": [
    "def test( model, test_loader, epsilon ):\n",
    "    # Accuracy counter\n",
    "    correct = 0\n",
    "    total = 0\n",
    "    adv_examples = []\n",
    "\n",
    "    # Loop over all examples in test set\n",
    "    for data, target in test_loader:\n",
    "        \n",
    "        if target.item() == 4:\n",
    "            target = torch.tensor(9)\n",
    "            \n",
    "            # Send the data and label to the device\n",
    "            data, target = data.to(device), target.to(device)\n",
    "\n",
    "            # Set requires_grad attribute of tensor. Important for Attack\n",
    "            data.requires_grad = True\n",
    "\n",
    "            # Forward pass the data through the model\n",
    "            output = model(data)\n",
    "            init_pred = output.max(1, keepdim=True)[1] # get the index of the max log-probability\n",
    "\n",
    "            # If the initial prediction is wrong, dont bother attacking, just move on\n",
    "            if init_pred.item() != 4:\n",
    "                continue\n",
    "\n",
    "            # Calculate the loss\n",
    "            loss = F.nll_loss(output[0], target)\n",
    "\n",
    "            # Zero all existing gradients\n",
    "            model.zero_grad()\n",
    "\n",
    "            # Calculate gradients of model in backward pass\n",
    "            loss.backward()\n",
    "            \n",
    "            # Collect datagrad\n",
    "            data_grad = data.grad.data\n",
    "\n",
    "            # Call FGSM Attack\n",
    "            perturbed_data = fgsm_attack(data, epsilon, data_grad)\n",
    "\n",
    "            # Re-classify the perturbed image\n",
    "            output = model(perturbed_data)\n",
    "\n",
    "            # Check for success\n",
    "            final_pred = output.max(1, keepdim=True)[1] # get the index of the max log-probability\n",
    "            if final_pred.item() == target.item():\n",
    "                correct += 1\n",
    "                # Save some adv examples for visualization later\n",
    "                adv_ex = perturbed_data.squeeze().detach().cpu().numpy()\n",
    "                adv_examples.append( (init_pred.item(), final_pred.item(), adv_ex) )\n",
    "            total += 1\n",
    "\n",
    "    # Calculate final accuracy for this epsilon\n",
    "    final_acc = correct/total\n",
    "    print(\"Epsilon: {}\\tTest Accuracy = {} / {} = {}\".format(epsilon, correct, total, final_acc))\n",
    "\n",
    "    # Return the accuracy and an adversarial example\n",
    "    return final_acc, adv_examples"
   ]
  },
  {
   "cell_type": "code",
   "execution_count": 66,
   "id": "c2ea5532",
   "metadata": {},
   "outputs": [
    {
     "name": "stdout",
     "output_type": "stream",
     "text": [
      "Epsilon: 0.05\tTest Accuracy = 40 / 972 = 0.0411522633744856\n",
      "Epsilon: 0.1\tTest Accuracy = 160 / 972 = 0.1646090534979424\n",
      "Epsilon: 0.15\tTest Accuracy = 447 / 972 = 0.45987654320987653\n",
      "Epsilon: 0.2\tTest Accuracy = 777 / 972 = 0.7993827160493827\n",
      "Epsilon: 0.25\tTest Accuracy = 927 / 972 = 0.9537037037037037\n",
      "Epsilon: 0.3\tTest Accuracy = 963 / 972 = 0.9907407407407407\n"
     ]
    }
   ],
   "source": [
    "accuracies = []\n",
    "examples = []\n",
    "epsilons = [.05, .1, .15, .2, .25, .3]\n",
    "\n",
    "test_loader_mnist = DataLoader(test_dataset_mnist,\n",
    "                        batch_size=1,\n",
    "                        shuffle=False)\n",
    "\n",
    "# Run test for each epsilon\n",
    "for eps in epsilons:\n",
    "    acc, ex = test(model_mnist, test_loader_mnist, eps)\n",
    "    accuracies.append(acc)\n",
    "    examples.append(ex)"
   ]
  },
  {
   "cell_type": "code",
   "execution_count": 74,
   "id": "9f607b69",
   "metadata": {},
   "outputs": [
    {
     "data": {
      "image/png": "[encoded data removed]",
      "text/plain": [
       "<Figure size 720x720 with 1 Axes>"
      ]
     },
     "metadata": {
      "needs_background": "light"
     },
     "output_type": "display_data"
    }
   ],
   "source": [
    "plt.figure(figsize=(10,10))\n",
    "plt.plot(epsilons, accuracies, \"*-\")\n",
    "plt.yticks(np.arange(0, 1.1, step=0.1))\n",
    "plt.xticks(np.arange(0, .35, step=0.05))\n",
    "plt.title(\"Accuracy vs Epsilon\")\n",
    "plt.xlabel(\"Epsilon\")\n",
    "plt.ylabel(\"Accuracy\")\n",
    "plt.show()"
   ]
  },
  {
   "cell_type": "code",
   "execution_count": 68,
   "id": "7fe47094",
   "metadata": {},
   "outputs": [
    {
     "data": {
      "image/png": "[encoded data removed]",
      "text/plain": [
       "<Figure size 576x720 with 1 Axes>"
      ]
     },
     "metadata": {
      "needs_background": "light"
     },
     "output_type": "display_data"
    }
   ],
   "source": [
    "plt.figure(figsize=(8,10))\n",
    "orig,adv,ex = examples[5][42]\n",
    "plt.imshow(ex, cmap=\"gray\")\n",
    "plt.show()"
   ]
  },
  {
   "cell_type": "code",
   "execution_count": 69,
   "id": "2309506c",
   "metadata": {},
   "outputs": [],
   "source": [
    "def test2( model, epsilon ):\n",
    "    # Accuracy counter\n",
    "    correct = 0\n",
    "    total = 0\n",
    "    adv_examples = []\n",
    "\n",
    "    # Loop over all examples in test set\n",
    "    for i in range(1000):\n",
    "        \n",
    "        data = torch.rand(1,1,28,28)\n",
    "        \n",
    "        target = torch.tensor(9)\n",
    "\n",
    "        # Send the data and label to the device\n",
    "        data, target = data.to(device), target.to(device)\n",
    "\n",
    "        # Set requires_grad attribute of tensor. Important for Attack\n",
    "        data.requires_grad = True\n",
    "\n",
    "        # Forward pass the data through the model\n",
    "        output = model(data)\n",
    "        init_pred = output.max(1, keepdim=True)[1] # get the index of the max log-probability\n",
    "\n",
    "        # Calculate the loss\n",
    "        loss = F.nll_loss(output[0], target)\n",
    "\n",
    "        # Zero all existing gradients\n",
    "        model.zero_grad()\n",
    "\n",
    "        # Calculate gradients of model in backward pass\n",
    "        loss.backward()\n",
    "\n",
    "        # Collect datagrad\n",
    "        data_grad = data.grad.data\n",
    "\n",
    "        # Call FGSM Attack\n",
    "        perturbed_data = fgsm_attack(data, epsilon, data_grad)\n",
    "\n",
    "        # Re-classify the perturbed image\n",
    "        output = model(perturbed_data)\n",
    "\n",
    "        # Check for success\n",
    "        final_pred = output.max(1, keepdim=True)[1] # get the index of the max log-probability\n",
    "        if final_pred.item() == target.item():\n",
    "            correct += 1\n",
    "            # Save some adv examples for visualization later\n",
    "            adv_ex = perturbed_data.squeeze().detach().cpu().numpy()\n",
    "            adv_examples.append( (init_pred.item(), final_pred.item(), adv_ex) )\n",
    "        total += 1\n",
    "\n",
    "    # Calculate final accuracy for this epsilon\n",
    "    final_acc = correct/total\n",
    "    print(\"Epsilon: {}\\tTest Accuracy = {} / {} = {}\".format(epsilon, correct, total, final_acc))\n",
    "\n",
    "    # Return the accuracy and an adversarial example\n",
    "    return final_acc, adv_examples"
   ]
  },
  {
   "cell_type": "code",
   "execution_count": 79,
   "id": "68874276",
   "metadata": {},
   "outputs": [
    {
     "name": "stdout",
     "output_type": "stream",
     "text": [
      "Epsilon: 0.05\tTest Accuracy = 0 / 1000 = 0.0\n",
      "Epsilon: 0.1\tTest Accuracy = 0 / 1000 = 0.0\n",
      "Epsilon: 0.15\tTest Accuracy = 2 / 1000 = 0.002\n",
      "Epsilon: 0.2\tTest Accuracy = 77 / 1000 = 0.077\n",
      "Epsilon: 0.25\tTest Accuracy = 196 / 1000 = 0.196\n",
      "Epsilon: 0.3\tTest Accuracy = 265 / 1000 = 0.265\n",
      "Epsilon: 0.35\tTest Accuracy = 303 / 1000 = 0.303\n",
      "Epsilon: 0.4\tTest Accuracy = 337 / 1000 = 0.337\n",
      "Epsilon: 0.45\tTest Accuracy = 307 / 1000 = 0.307\n",
      "Epsilon: 0.5\tTest Accuracy = 329 / 1000 = 0.329\n",
      "Epsilon: 0.55\tTest Accuracy = 316 / 1000 = 0.316\n",
      "Epsilon: 0.6\tTest Accuracy = 283 / 1000 = 0.283\n",
      "Epsilon: 0.65\tTest Accuracy = 271 / 1000 = 0.271\n",
      "Epsilon: 0.7\tTest Accuracy = 207 / 1000 = 0.207\n",
      "Epsilon: 0.75\tTest Accuracy = 203 / 1000 = 0.203\n",
      "Epsilon: 0.8\tTest Accuracy = 205 / 1000 = 0.205\n",
      "Epsilon: 0.85\tTest Accuracy = 172 / 1000 = 0.172\n",
      "Epsilon: 0.9\tTest Accuracy = 186 / 1000 = 0.186\n",
      "Epsilon: 0.95\tTest Accuracy = 161 / 1000 = 0.161\n",
      "Epsilon: 1\tTest Accuracy = 179 / 1000 = 0.179\n"
     ]
    }
   ],
   "source": [
    "accuracies2 = []\n",
    "examples2 = []\n",
    "epsilons2 = [.05, .1, .15, .2, .25, .3, .35, .4, .45, .5, .55, .6, .65, .7, .75, .8, .85, .9, .95, 1]\n",
    "\n",
    "# Run test for each epsilon\n",
    "for eps in epsilons2:\n",
    "    acc, ex = test2(model_mnist, eps)\n",
    "    accuracies2.append(acc)\n",
    "    examples2.append(ex)"
   ]
  },
  {
   "cell_type": "code",
   "execution_count": 80,
   "id": "159c9c7d",
   "metadata": {},
   "outputs": [
    {
     "data": {
      "image/png": "[encoded data removed]",
      "text/plain": [
       "<Figure size 720x720 with 1 Axes>"
      ]
     },
     "metadata": {
      "needs_background": "light"
     },
     "output_type": "display_data"
    }
   ],
   "source": [
    "plt.figure(figsize=(10,10))\n",
    "plt.plot(epsilons2, accuracies2, \"*-\")\n",
    "plt.yticks(np.arange(0, 1.1, step=0.1))\n",
    "plt.xticks(np.arange(0, 1.05, step=0.05))\n",
    "plt.title(\"Accuracy vs Epsilon\")\n",
    "plt.xlabel(\"Epsilon\")\n",
    "plt.ylabel(\"Accuracy\")\n",
    "plt.show()"
   ]
  },
  {
   "cell_type": "code",
   "execution_count": 81,
   "id": "e3f0f2bb",
   "metadata": {},
   "outputs": [
    {
     "data": {
      "image/png": "[encoded data removed]",
      "text/plain": [
       "<Figure size 576x720 with 1 Axes>"
      ]
     },
     "metadata": {
      "needs_background": "light"
     },
     "output_type": "display_data"
    }
   ],
   "source": [
    "plt.figure(figsize=(8,10))\n",
    "orig,adv,ex = examples2[8][42]\n",
    "plt.imshow(ex, cmap=\"gray\")\n",
    "plt.show()"
   ]
  },
  {
   "cell_type": "code",
   "execution_count": 139,
   "id": "913fb8ca",
   "metadata": {},
   "outputs": [],
   "source": [
    "def test3( model ):\n",
    "    # Accuracy counter\n",
    "    correct = 0\n",
    "    total = 0\n",
    "    adv_examples = []\n",
    "\n",
    "    # Loop over all examples in test set\n",
    "    for i in range(1, 10):\n",
    "        \n",
    "        data = torch.zeros(1,1,28,28)\n",
    "        \n",
    "        target = torch.tensor(9)\n",
    "\n",
    "        # Send the data and label to the device\n",
    "        data, target = data.to(device), target.to(device)\n",
    "\n",
    "        # Set requires_grad attribute of tensor. Important for Attack\n",
    "        data.requires_grad = True\n",
    "\n",
    "        # Forward pass the data through the model\n",
    "        output = model(data)\n",
    "        init_pred = output.max(1, keepdim=True)[1] # get the index of the max log-probability\n",
    "\n",
    "        # Calculate the loss\n",
    "        loss = F.nll_loss(output[0], target)\n",
    "\n",
    "        # Zero all existing gradients\n",
    "        model.zero_grad()\n",
    "\n",
    "        # Calculate gradients of model in backward pass\n",
    "        loss.backward()\n",
    "\n",
    "        # Collect datagrad\n",
    "        data_grad = data.grad.data\n",
    "\n",
    "        # Call FGSM Attack\n",
    "        perturbed_data = fgsm_attack(data, i/100, data_grad)\n",
    "\n",
    "        # Re-classify the perturbed image\n",
    "        output = model(perturbed_data)\n",
    "\n",
    "        # Check for success\n",
    "        final_pred = output.max(1, keepdim=True)[1] # get the index of the max log-probability\n",
    "        if final_pred.item() == target.item():\n",
    "            correct += 1\n",
    "        # Save some adv examples for visualization later\n",
    "        adv_ex = perturbed_data.squeeze().detach().cpu().numpy()\n",
    "        adv_examples.append( (init_pred.item(), final_pred.item(), adv_ex) )\n",
    "        total += 1\n",
    "\n",
    "    # Calculate final accuracy\n",
    "    final_acc = correct/total\n",
    "    print(\"Epsilon: 0.01-1\\tTest Accuracy = {} / {} = {}\".format(correct, total, final_acc))\n",
    "\n",
    "    # Return the accuracy and an adversarial example\n",
    "    return final_acc, adv_examples"
   ]
  },
  {
   "cell_type": "code",
   "execution_count": 140,
   "id": "70bd247c",
   "metadata": {},
   "outputs": [
    {
     "name": "stdout",
     "output_type": "stream",
     "text": [
      "Epsilon: 0.01-1\tTest Accuracy = 0 / 9 = 0.0\n"
     ]
    }
   ],
   "source": [
    "accuracies3, examples3 = test3(model_mnist)"
   ]
  },
  {
   "cell_type": "code",
   "execution_count": 141,
   "id": "20d6ad75",
   "metadata": {},
   "outputs": [
    {
     "data": {
      "image/png": "[encoded data removed]",
      "text/plain": [
       "<Figure size 576x720 with 1 Axes>"
      ]
     },
     "metadata": {
      "needs_background": "light"
     },
     "output_type": "display_data"
    },
    {
     "name": "stdout",
     "output_type": "stream",
     "text": [
      "(1, 5, array([[0.  , 0.  , 0.  , 0.01, 0.01, 0.01, 0.01, 0.01, 0.01, 0.01, 0.01,\n",
      "        0.01, 0.01, 0.  , 0.  , 0.  , 0.  , 0.  , 0.  , 0.  , 0.  , 0.  ,\n",
      "        0.  , 0.  , 0.  , 0.  , 0.  , 0.  ],\n",
      "       [0.01, 0.01, 0.01, 0.01, 0.01, 0.01, 0.01, 0.01, 0.01, 0.01, 0.  ,\n",
      "        0.01, 0.  , 0.01, 0.  , 0.  , 0.  , 0.  , 0.  , 0.  , 0.  , 0.  ,\n",
      "        0.  , 0.  , 0.  , 0.  , 0.  , 0.  ],\n",
      "       [0.01, 0.01, 0.01, 0.01, 0.01, 0.  , 0.  , 0.  , 0.  , 0.  , 0.  ,\n",
      "        0.  , 0.01, 0.01, 0.  , 0.01, 0.  , 0.01, 0.  , 0.01, 0.01, 0.01,\n",
      "        0.  , 0.  , 0.  , 0.  , 0.01, 0.  ],\n",
      "       [0.01, 0.01, 0.  , 0.  , 0.  , 0.  , 0.  , 0.  , 0.  , 0.  , 0.  ,\n",
      "        0.01, 0.01, 0.01, 0.  , 0.01, 0.01, 0.01, 0.01, 0.01, 0.01, 0.01,\n",
      "        0.01, 0.01, 0.01, 0.  , 0.01, 0.  ],\n",
      "       [0.01, 0.  , 0.  , 0.  , 0.  , 0.  , 0.  , 0.  , 0.  , 0.  , 0.  ,\n",
      "        0.  , 0.01, 0.01, 0.01, 0.01, 0.01, 0.01, 0.01, 0.01, 0.01, 0.01,\n",
      "        0.01, 0.01, 0.01, 0.01, 0.01, 0.01],\n",
      "       [0.  , 0.  , 0.  , 0.  , 0.  , 0.  , 0.  , 0.  , 0.  , 0.  , 0.  ,\n",
      "        0.01, 0.01, 0.01, 0.01, 0.01, 0.01, 0.01, 0.01, 0.01, 0.01, 0.01,\n",
      "        0.01, 0.01, 0.01, 0.01, 0.01, 0.  ],\n",
      "       [0.  , 0.  , 0.  , 0.  , 0.  , 0.  , 0.  , 0.  , 0.  , 0.  , 0.  ,\n",
      "        0.01, 0.01, 0.01, 0.01, 0.01, 0.01, 0.01, 0.01, 0.01, 0.01, 0.01,\n",
      "        0.01, 0.01, 0.  , 0.01, 0.  , 0.01],\n",
      "       [0.  , 0.  , 0.  , 0.  , 0.  , 0.  , 0.  , 0.  , 0.01, 0.  , 0.01,\n",
      "        0.01, 0.01, 0.01, 0.01, 0.01, 0.01, 0.01, 0.01, 0.01, 0.01, 0.01,\n",
      "        0.  , 0.01, 0.01, 0.01, 0.01, 0.01],\n",
      "       [0.  , 0.  , 0.  , 0.01, 0.01, 0.01, 0.  , 0.01, 0.01, 0.01, 0.01,\n",
      "        0.01, 0.01, 0.01, 0.01, 0.01, 0.01, 0.01, 0.  , 0.  , 0.  , 0.01,\n",
      "        0.  , 0.  , 0.  , 0.  , 0.  , 0.01],\n",
      "       [0.  , 0.  , 0.01, 0.  , 0.01, 0.01, 0.01, 0.01, 0.01, 0.01, 0.01,\n",
      "        0.01, 0.01, 0.01, 0.01, 0.01, 0.01, 0.01, 0.  , 0.01, 0.01, 0.01,\n",
      "        0.01, 0.01, 0.01, 0.  , 0.01, 0.  ],\n",
      "       [0.01, 0.01, 0.01, 0.01, 0.01, 0.01, 0.01, 0.01, 0.01, 0.01, 0.01,\n",
      "        0.01, 0.01, 0.01, 0.01, 0.01, 0.01, 0.  , 0.  , 0.  , 0.01, 0.01,\n",
      "        0.01, 0.  , 0.  , 0.  , 0.  , 0.  ],\n",
      "       [0.01, 0.01, 0.01, 0.01, 0.01, 0.01, 0.01, 0.01, 0.01, 0.01, 0.01,\n",
      "        0.01, 0.01, 0.01, 0.01, 0.01, 0.01, 0.01, 0.01, 0.01, 0.01, 0.01,\n",
      "        0.01, 0.  , 0.  , 0.  , 0.  , 0.  ],\n",
      "       [0.01, 0.01, 0.01, 0.01, 0.01, 0.01, 0.01, 0.01, 0.01, 0.01, 0.01,\n",
      "        0.01, 0.01, 0.01, 0.01, 0.01, 0.01, 0.  , 0.01, 0.  , 0.01, 0.  ,\n",
      "        0.  , 0.  , 0.  , 0.  , 0.  , 0.  ],\n",
      "       [0.01, 0.01, 0.01, 0.01, 0.01, 0.01, 0.01, 0.01, 0.01, 0.01, 0.01,\n",
      "        0.01, 0.01, 0.01, 0.01, 0.01, 0.01, 0.  , 0.  , 0.  , 0.  , 0.  ,\n",
      "        0.  , 0.  , 0.  , 0.  , 0.  , 0.  ],\n",
      "       [0.01, 0.01, 0.01, 0.01, 0.01, 0.01, 0.01, 0.01, 0.01, 0.  , 0.  ,\n",
      "        0.  , 0.01, 0.  , 0.01, 0.  , 0.  , 0.  , 0.  , 0.  , 0.  , 0.  ,\n",
      "        0.  , 0.  , 0.  , 0.  , 0.  , 0.01],\n",
      "       [0.01, 0.01, 0.  , 0.01, 0.01, 0.01, 0.01, 0.01, 0.  , 0.01, 0.  ,\n",
      "        0.  , 0.  , 0.  , 0.  , 0.  , 0.  , 0.  , 0.  , 0.  , 0.  , 0.  ,\n",
      "        0.  , 0.  , 0.  , 0.  , 0.01, 0.  ],\n",
      "       [0.  , 0.  , 0.  , 0.01, 0.  , 0.01, 0.01, 0.01, 0.  , 0.  , 0.  ,\n",
      "        0.  , 0.  , 0.  , 0.  , 0.  , 0.  , 0.  , 0.  , 0.  , 0.  , 0.  ,\n",
      "        0.  , 0.  , 0.  , 0.  , 0.  , 0.01],\n",
      "       [0.  , 0.01, 0.  , 0.01, 0.  , 0.01, 0.  , 0.01, 0.  , 0.  , 0.  ,\n",
      "        0.  , 0.  , 0.  , 0.  , 0.  , 0.  , 0.  , 0.  , 0.  , 0.  , 0.  ,\n",
      "        0.  , 0.  , 0.  , 0.  , 0.  , 0.  ],\n",
      "       [0.  , 0.  , 0.  , 0.01, 0.  , 0.  , 0.  , 0.  , 0.  , 0.  , 0.  ,\n",
      "        0.  , 0.  , 0.  , 0.  , 0.  , 0.  , 0.  , 0.  , 0.01, 0.  , 0.01,\n",
      "        0.  , 0.01, 0.  , 0.  , 0.  , 0.01],\n",
      "       [0.  , 0.01, 0.01, 0.  , 0.  , 0.01, 0.  , 0.  , 0.  , 0.  , 0.  ,\n",
      "        0.  , 0.  , 0.  , 0.  , 0.  , 0.  , 0.  , 0.  , 0.  , 0.  , 0.01,\n",
      "        0.01, 0.01, 0.  , 0.01, 0.01, 0.01],\n",
      "       [0.  , 0.01, 0.  , 0.  , 0.  , 0.  , 0.  , 0.  , 0.  , 0.  , 0.  ,\n",
      "        0.  , 0.  , 0.  , 0.  , 0.  , 0.  , 0.  , 0.  , 0.01, 0.  , 0.01,\n",
      "        0.  , 0.01, 0.  , 0.01, 0.01, 0.01],\n",
      "       [0.  , 0.  , 0.  , 0.  , 0.  , 0.  , 0.  , 0.  , 0.  , 0.  , 0.  ,\n",
      "        0.  , 0.  , 0.  , 0.01, 0.  , 0.01, 0.  , 0.01, 0.01, 0.01, 0.01,\n",
      "        0.01, 0.01, 0.01, 0.01, 0.01, 0.01],\n",
      "       [0.  , 0.  , 0.  , 0.  , 0.  , 0.  , 0.  , 0.  , 0.  , 0.  , 0.  ,\n",
      "        0.  , 0.  , 0.01, 0.01, 0.01, 0.01, 0.01, 0.01, 0.01, 0.01, 0.01,\n",
      "        0.01, 0.01, 0.01, 0.01, 0.01, 0.  ],\n",
      "       [0.  , 0.  , 0.  , 0.  , 0.01, 0.  , 0.01, 0.  , 0.01, 0.  , 0.01,\n",
      "        0.  , 0.01, 0.  , 0.01, 0.01, 0.01, 0.01, 0.01, 0.01, 0.01, 0.01,\n",
      "        0.01, 0.01, 0.01, 0.01, 0.  , 0.  ],\n",
      "       [0.  , 0.  , 0.01, 0.01, 0.01, 0.01, 0.01, 0.01, 0.01, 0.  , 0.01,\n",
      "        0.01, 0.01, 0.  , 0.01, 0.01, 0.01, 0.01, 0.01, 0.01, 0.01, 0.01,\n",
      "        0.01, 0.01, 0.01, 0.  , 0.  , 0.  ],\n",
      "       [0.01, 0.  , 0.01, 0.01, 0.01, 0.  , 0.01, 0.  , 0.01, 0.  , 0.01,\n",
      "        0.  , 0.01, 0.  , 0.01, 0.01, 0.01, 0.01, 0.01, 0.01, 0.01, 0.01,\n",
      "        0.01, 0.01, 0.  , 0.  , 0.  , 0.  ],\n",
      "       [0.  , 0.01, 0.01, 0.01, 0.01, 0.01, 0.01, 0.01, 0.01, 0.01, 0.01,\n",
      "        0.01, 0.01, 0.01, 0.01, 0.01, 0.01, 0.  , 0.01, 0.01, 0.01, 0.01,\n",
      "        0.01, 0.  , 0.  , 0.  , 0.  , 0.  ],\n",
      "       [0.  , 0.  , 0.01, 0.01, 0.01, 0.01, 0.01, 0.01, 0.01, 0.01, 0.01,\n",
      "        0.01, 0.01, 0.01, 0.01, 0.01, 0.01, 0.01, 0.01, 0.01, 0.01, 0.01,\n",
      "        0.  , 0.01, 0.  , 0.  , 0.01, 0.01]], dtype=float32))\n"
     ]
    }
   ],
   "source": [
    "plt.figure(figsize=(8,10))\n",
    "orig,adv,ex = examples3[0]\n",
    "plt.imshow(ex, cmap=\"gray\")\n",
    "plt.show()\n",
    "print(examples3[0])"
   ]
  },
  {
   "cell_type": "code",
   "execution_count": 191,
   "id": "dc3ec588",
   "metadata": {},
   "outputs": [],
   "source": [
    "def test4( model, epsilon ):\n",
    "    \n",
    "    data = torch.zeros(1,1,28,28)\n",
    "    target = torch.tensor(9)\n",
    "    data, target = data.to(device), target.to(device)\n",
    "    data.requires_grad = True\n",
    "    \n",
    "    # Loop over all examples in test set\n",
    "    for i in range(1000):\n",
    "        \n",
    "        print('Iteration: {}', i)\n",
    "        \n",
    "        # Forward pass the data through the model\n",
    "        output = model(data)\n",
    "        init_pred = output.max(1, keepdim=True)[1] # get the index of the max log-probability\n",
    "        \n",
    "        if init_pred.item() == target.item():\n",
    "            return data.squeeze().detach().cpu().numpy()\n",
    "        \n",
    "        # Calculate the loss\n",
    "        loss = F.nll_loss(output[0], target)\n",
    "\n",
    "        # Zero all existing gradients\n",
    "        model.zero_grad()\n",
    "\n",
    "        # Calculate gradients of model in backward pass\n",
    "        loss.backward()\n",
    "\n",
    "        # Collect datagrad\n",
    "        data_grad = data.grad.data\n",
    "\n",
    "        # Call FGSM Attack\n",
    "        data = fgsm_attack(data, epsilon, data_grad).squeeze().detach().cpu()\n",
    "        data = torch.reshape(data, (1,1,28,28))\n",
    "        data = data.to(device)\n",
    "        data.requires_grad = True"
   ]
  },
  {
   "cell_type": "code",
   "execution_count": 205,
   "id": "54accfb7",
   "metadata": {},
   "outputs": [
    {
     "name": "stdout",
     "output_type": "stream",
     "text": [
      "Iteration: {} 0\n",
      "Iteration: {} 1\n",
      "Iteration: {} 2\n",
      "Iteration: {} 3\n"
     ]
    }
   ],
   "source": [
    "example4 = test4(model_mnist, .2)"
   ]
  },
  {
   "cell_type": "code",
   "execution_count": 206,
   "id": "5e8b3f2f",
   "metadata": {},
   "outputs": [
    {
     "data": {
      "image/png": "[encoded data removed]",
      "text/plain": [
       "<Figure size 576x720 with 1 Axes>"
      ]
     },
     "metadata": {
      "needs_background": "light"
     },
     "output_type": "display_data"
    }
   ],
   "source": [
    "plt.figure(figsize=(8,10))\n",
    "plt.imshow(example4, cmap=\"gray\")\n",
    "plt.show()"
   ]
  },
  {
   "cell_type": "code",
   "execution_count": null,
   "id": "cf85e474",
   "metadata": {},
   "outputs": [],
   "source": []
  }
 ],
 "metadata": {
  "kernelspec": {
   "display_name": "Python 3 (ipykernel)",
   "language": "python",
   "name": "python3"
  },
  "language_info": {
   "codemirror_mode": {
    "name": "ipython",
    "version": 3
   },
   "file_extension": ".py",
   "mimetype": "text/x-python",
   "name": "python",
   "nbconvert_exporter": "python",
   "pygments_lexer": "ipython3",
   "version": "3.8.13"
  }
 },
 "nbformat": 4,
 "nbformat_minor": 5
}
