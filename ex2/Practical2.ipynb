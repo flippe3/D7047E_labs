{
 "cells": [
  {
   "cell_type": "code",
   "execution_count": 3,
   "id": "2363cb22",
   "metadata": {},
   "outputs": [],
   "source": [
    "import torch\n",
    "import torchvision \n",
    "import torch.nn as nn\n",
    "import torchvision.models as models\n",
    "from torchvision.transforms import ToTensor\n",
    "from torch.utils.data import DataLoader, random_split"
   ]
  },
  {
   "cell_type": "code",
   "execution_count": 4,
   "id": "01d42f97",
   "metadata": {},
   "outputs": [
    {
     "name": "stdout",
     "output_type": "stream",
     "text": [
      "Files already downloaded and verified\n",
      "Files already downloaded and verified\n"
     ]
    }
   ],
   "source": [
    "train_dataset = torchvision.datasets.CIFAR10(root='./data', train=True, download=True, transform=ToTensor())\n",
    "test_dataset = torchvision.datasets.CIFAR10(root='./data', train=False, download=True, transform=ToTensor())\n",
    "\n",
    "batch_size = 1000\n",
    "\n",
    "train_loader = DataLoader(train_dataset,\n",
    "                        batch_size=batch_size,\n",
    "                        shuffle=True)\n",
    "\n",
    "test_loader = DataLoader(test_dataset,\n",
    "                        batch_size=batch_size,\n",
    "                        shuffle=False)"
   ]
  },
  {
   "cell_type": "code",
   "execution_count": 5,
   "id": "72165de4",
   "metadata": {},
   "outputs": [],
   "source": [
    "alexnet = models.alexnet(pretrained=True)\n",
    "model = nn.Sequential(\n",
    "    torchvision.transforms.Resize((63,63)),\n",
    "    alexnet,\n",
    "    nn.ReLU(),\n",
    "    nn.Linear(1000, 10)\n",
    ")\n",
    "loss_fn = torch.nn.CrossEntropyLoss()\n",
    "optimizer = torch.optim.Adam(model.parameters())\n",
    "epochs = 1"
   ]
  },
  {
   "cell_type": "code",
   "execution_count": 6,
   "id": "3c68bf27",
   "metadata": {},
   "outputs": [],
   "source": [
    "def run(epochs, optimizer, loss_fn, train_loader, test_loader):\n",
    "    for epoch in range(epochs):\n",
    "        for i, (data, labels) in enumerate(train_loader):\n",
    "            pred = model(data)\n",
    "            loss = loss_fn(pred, labels)\n",
    "            loss.backward()\n",
    "            optimizer.step()\n",
    "            optimizer.zero_grad()\n",
    "            print(\n",
    "                f'\\rEpoch {epoch+1} [{i+1}/{len(train_loader)}] - Loss: {loss}',\n",
    "                end=''\n",
    "            )\n",
    "\n",
    "        print('\\nTesting the model after epoch:', epoch)\n",
    "        correct, total = 0, 0\n",
    "        for _, (data, labels) in enumerate(test_loader):\n",
    "            pred = model(data)\n",
    "            for i in range(len(labels)):\n",
    "                pr = torch.argmax(pred[i], dim=-1)\n",
    "                if pr == labels[i]:\n",
    "                    correct += 1\n",
    "                total += 1\n",
    "        print(correct, total, correct/total)"
   ]
  },
  {
   "cell_type": "code",
   "execution_count": 5,
   "id": "18fd33a9",
   "metadata": {},
   "outputs": [
    {
     "name": "stdout",
     "output_type": "stream",
     "text": [
      "Epoch 1 [50/50] - Loss: 1.9133507013320923\n",
      "Testing the model after epoch: 0\n",
      "2486 10000 0.2486\n"
     ]
    }
   ],
   "source": [
    "run(epochs, optimizer, loss_fn, train_loader, test_loader)"
   ]
  },
  {
   "cell_type": "code",
   "execution_count": 7,
   "id": "3935d953",
   "metadata": {},
   "outputs": [],
   "source": [
    "# reset model\n",
    "model = nn.Sequential(\n",
    "    torchvision.transforms.Resize((63,63)),\n",
    "    alexnet,\n",
    "    nn.ReLU(),\n",
    "    nn.Linear(1000, 10)\n",
    ")\n",
    "\n",
    "optimizer = torch.optim.Adam(model.parameters(), lr=0.0001)"
   ]
  },
  {
   "cell_type": "code",
   "execution_count": 8,
   "id": "85bbf316",
   "metadata": {},
   "outputs": [],
   "source": [
    "# freeze feature extraction (13 layers)\n",
    "for i, param in enumerate(model.parameters()):\n",
    "    if i < 13:\n",
    "        param.requires_grad = False"
   ]
  },
  {
   "cell_type": "code",
   "execution_count": 9,
   "id": "7d4b9d3c",
   "metadata": {},
   "outputs": [
    {
     "name": "stdout",
     "output_type": "stream",
     "text": [
      "Epoch 1 [50/50] - Loss: 1.4123297929763794\n",
      "Testing the model after epoch: 0\n",
      "5026 10000 0.5026\n"
     ]
    }
   ],
   "source": [
    "run(epochs, optimizer, loss_fn, train_loader, test_loader)"
   ]
  },
  {
   "cell_type": "code",
   "execution_count": 10,
   "id": "3e84d019",
   "metadata": {},
   "outputs": [],
   "source": [
    "class Model(nn.Module):\n",
    "    def __init__(self):\n",
    "        super().__init__()\n",
    "        \n",
    "        self.conv1 = nn.Conv2d(1, 16, 5, 1, 2)\n",
    "        self.pool = nn.MaxPool2d(2, 2)\n",
    "        self.conv2 = nn.Conv2d(16, 32, 5, 1, 2)\n",
    "        self.fc1 = nn.Linear(32 * 7 * 7, 10)\n",
    "        self.relu = nn.ReLU()\n",
    "        \n",
    "    def forward(self, x):\n",
    "        x = self.pool(self.relu(self.conv1(x))) # 28x28 > 14x14\n",
    "        x = self.pool(self.relu(self.conv2(x))) # 14x14 > 7x7\n",
    "        x = torch.flatten(x, 1)\n",
    "        x = self.fc1(x)\n",
    "        return x\n",
    "    \n",
    "# Create an instance of the model\n",
    "model = Model()"
   ]
  },
  {
   "cell_type": "code",
   "execution_count": 11,
   "id": "ec766e21",
   "metadata": {},
   "outputs": [],
   "source": [
    "train_dataset_mnist = torchvision.datasets.MNIST(root='./data', train=True, download=True, transform=ToTensor())\n",
    "test_dataset_mnist = torchvision.datasets.MNIST(root='./data', train=False, download=True, transform=ToTensor())\n",
    "\n",
    "batch_size = 100\n",
    "\n",
    "train_loader_mnist = DataLoader(train_dataset_mnist,\n",
    "                        batch_size=batch_size,\n",
    "                        shuffle=True)\n",
    "\n",
    "test_loader_mnist = DataLoader(test_dataset_mnist,\n",
    "                        batch_size=batch_size,\n",
    "                        shuffle=False)\n",
    "optimizer = torch.optim.Adam(model.parameters(), lr=0.001)"
   ]
  },
  {
   "cell_type": "code",
   "execution_count": 12,
   "id": "60713319",
   "metadata": {},
   "outputs": [
    {
     "name": "stdout",
     "output_type": "stream",
     "text": [
      "Epoch 1 [600/600] - Loss: 0.037032209336757664\n",
      "Testing the model after epoch: 0\n",
      "9781 10000 0.9781\n"
     ]
    }
   ],
   "source": [
    "run(epochs, optimizer, loss_fn, train_loader_mnist, test_loader_mnist)"
   ]
  },
  {
   "cell_type": "code",
   "execution_count": 13,
   "id": "4168a48b",
   "metadata": {},
   "outputs": [
    {
     "name": "stdout",
     "output_type": "stream",
     "text": [
      "Requirement already satisfied: scipy in c:\\users\\eriks\\anaconda3\\envs\\d7047e\\lib\\site-packages (1.8.0)\n",
      "Requirement already satisfied: numpy<1.25.0,>=1.17.3 in c:\\users\\eriks\\anaconda3\\envs\\d7047e\\lib\\site-packages (from scipy) (1.21.5)\n"
     ]
    }
   ],
   "source": [
    "!pip install scipy"
   ]
  },
  {
   "cell_type": "code",
   "execution_count": 14,
   "id": "80a465f4",
   "metadata": {},
   "outputs": [
    {
     "name": "stdout",
     "output_type": "stream",
     "text": [
      "Using downloaded and verified file: ./data\\test_32x32.mat\n"
     ]
    }
   ],
   "source": [
    "test_dataset_svhn = torchvision.datasets.SVHN(root='./data', split='test', download=True, transform=ToTensor())\n",
    "\n",
    "batch_size = 100\n",
    "\n",
    "test_loader_svhn = DataLoader(test_dataset_svhn,\n",
    "                        batch_size=batch_size,\n",
    "                        shuffle=False)\n",
    "\n",
    "def runtest(test_loader):\n",
    "    correct, total = 0, 0\n",
    "    for _, (data, labels) in enumerate(test_loader):\n",
    "        data = torchvision.transforms.Resize((28,28))(torchvision.transforms.Grayscale()(data))\n",
    "        pred = model(data)\n",
    "        for i in range(len(labels)):\n",
    "            pr = torch.argmax(pred[i], dim=-1)\n",
    "            if pr == labels[i]:\n",
    "                correct += 1\n",
    "            total += 1\n",
    "    print(correct, total, correct/total)"
   ]
  },
  {
   "cell_type": "code",
   "execution_count": 15,
   "id": "da767b05",
   "metadata": {},
   "outputs": [
    {
     "name": "stdout",
     "output_type": "stream",
     "text": [
      "4898 26032 0.18815304240934236\n"
     ]
    }
   ],
   "source": [
    "runtest(test_loader_svhn)"
   ]
  },
  {
   "cell_type": "code",
   "execution_count": null,
   "id": "ebb1f098",
   "metadata": {},
   "outputs": [],
   "source": []
  }
 ],
 "metadata": {
  "kernelspec": {
   "display_name": "Python 3 (ipykernel)",
   "language": "python",
   "name": "python3"
  },
  "language_info": {
   "codemirror_mode": {
    "name": "ipython",
    "version": 3
   },
   "file_extension": ".py",
   "mimetype": "text/x-python",
   "name": "python",
   "nbconvert_exporter": "python",
   "pygments_lexer": "ipython3",
   "version": "3.8.13"
  }
 },
 "nbformat": 4,
 "nbformat_minor": 5
}
